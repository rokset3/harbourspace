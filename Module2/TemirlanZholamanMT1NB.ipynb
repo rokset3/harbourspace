{
  "nbformat": 4,
  "nbformat_minor": 0,
  "metadata": {
    "colab": {
      "provenance": []
    },
    "kernelspec": {
      "name": "python3",
      "display_name": "Python 3"
    },
    "language_info": {
      "name": "python"
    },
    "accelerator": "GPU"
  },
  "cells": [
    {
      "cell_type": "markdown",
      "metadata": {
        "id": "eu-7E221M2OM"
      },
      "source": [
        "# PCA from Scratch\n",
        "\n",
        "In this notebook, you will need to implement PCA in order to visualize points from a four-dimensional space on a 2D plot.\n",
        "\n",
        "Run the cells of this notebook one-by-one, occasionally implementing some parts as instructed."
      ]
    },
    {
      "cell_type": "code",
      "metadata": {
        "id": "H7FLVMF0M2fw"
      },
      "source": [
        "import numpy as np"
      ],
      "execution_count": 1,
      "outputs": []
    },
    {
      "cell_type": "markdown",
      "metadata": {
        "id": "VPNqNQ9GNbOH"
      },
      "source": [
        "## Loading the data\n",
        "\n",
        "In this notebook, you will work with the famous $\\texttt{iris}$ dataset.\n",
        "\n",
        "The data set consists of 50 samples from each of three species of Iris (setosa, virginica and versicolor). Four features were measured from each sample: the length and the width of the sepals and petals, in centimeters.\n",
        "\n",
        "We will first load the data.\n",
        "\n",
        "More information on the dataset? See [Wikipedia](https://en.wikipedia.org/wiki/Iris_flower_data_set)."
      ]
    },
    {
      "cell_type": "code",
      "metadata": {
        "id": "PhZlnvj0gGHG"
      },
      "source": [
        "from sklearn.datasets import load_iris\n",
        "iris = load_iris()\n",
        "\n",
        "# Columns of X represent examples\n",
        "X = iris.data.transpose()\n",
        "y = iris.target"
      ],
      "execution_count": 3,
      "outputs": []
    },
    {
      "cell_type": "markdown",
      "metadata": {
        "id": "mn8iJsESOHv0"
      },
      "source": [
        "Each example in the dataset is a point in a four-dimensional space, which makes it impossible to plot the data."
      ]
    },
    {
      "cell_type": "code",
      "metadata": {
        "id": "jKFB2ab0OGa2",
        "outputId": "47efaa4e-61cf-46e0-963d-b02268f80dae",
        "colab": {
          "base_uri": "https://localhost:8080/"
        }
      },
      "source": [
        "X.shape"
      ],
      "execution_count": 4,
      "outputs": [
        {
          "output_type": "execute_result",
          "data": {
            "text/plain": [
              "(4, 150)"
            ]
          },
          "metadata": {},
          "execution_count": 4
        }
      ]
    },
    {
      "cell_type": "markdown",
      "metadata": {
        "id": "_X7v7ulpObYU"
      },
      "source": [
        "Let's reduce the dimensionality of the data with the help of PCA."
      ]
    },
    {
      "cell_type": "markdown",
      "metadata": {
        "id": "FxH-eb8POm8d"
      },
      "source": [
        "## Implementing PCA\n",
        "\n",
        "Iimplement the PCA procedure by ompleting the code below. \n",
        "\n",
        "You can consult the slides from the lecture and / or practical session to review the PCA algorithm."
      ]
    },
    {
      "cell_type": "code",
      "source": [],
      "metadata": {
        "id": "8BwB79iS4TgL"
      },
      "execution_count": null,
      "outputs": []
    },
    {
      "cell_type": "code",
      "metadata": {
        "id": "-5xlK2YegcJ2"
      },
      "source": [
        "def pca(X, n_components=2):\n",
        "  \n",
        "  m, n = X.shape\n",
        "  # 1. Center the data \n",
        "  # (subtract each feature's mean from their values)  \n",
        "  # YOUR CODE HERE\n",
        "  X_centered = X - np.mean(X, axis=1).reshape(m, 1)\n",
        "\n",
        "  # 2. Estimate the covariance matrix\n",
        "  # YOUR CODE HERE\n",
        "  XX_inv =  np.cov(X_centered)\n",
        "\n",
        "  # 3. Find eigenvectors and eigenvalues \n",
        "  # of the covariance matrix\n",
        "  # YOUR CODE HERE\n",
        "  eigen_values, eigen_vectors = np.linalg.eigh(XX_inv)\n",
        "\n",
        "  # 4. Sort eigenvalues in the descending order\n",
        "  # Don't forget to re-order the corresponding eigenvectors! \n",
        "  # YOUR CODE HERE\n",
        "  sorted_index = np.argsort(eigen_values)[::-1]\n",
        "  sorted_eigenvalues = eigen_values[sorted_index]\n",
        "  sorted_eigenvectors = eigen_vectors[:, sorted_index]\n",
        "\n",
        "  # 5. Select the first n_components eigenvectors (principle components)  \n",
        "  # YOUR CODE HERE\n",
        "  sorted_eigenvectors = sorted_eigenvectors[:,0:n_components]\n",
        "\n",
        "  # 6. Project the data onto the first n_components principle components\n",
        "  # YOUR CODE HERE\n",
        "  X_projected = np.matmul(sorted_eigenvectors.T, X_centered)\n",
        "  pass\n",
        "  return X_projected"
      ],
      "execution_count": 25,
      "outputs": []
    },
    {
      "cell_type": "markdown",
      "metadata": {
        "id": "XuZnNtlyPkel"
      },
      "source": [
        "Now, let's try our function out! Project the $\\texttt{iris}$ data onto a 2D plane."
      ]
    },
    {
      "cell_type": "code",
      "metadata": {
        "id": "n4P8DDiRg2l_"
      },
      "source": [
        "X_proj = pca(X)"
      ],
      "execution_count": 26,
      "outputs": []
    },
    {
      "cell_type": "code",
      "source": [
        "X_proj"
      ],
      "metadata": {
        "id": "Qilv9COb7H2S"
      },
      "execution_count": 16,
      "outputs": []
    },
    {
      "cell_type": "markdown",
      "metadata": {
        "id": "Vj6vRY6gPsrK"
      },
      "source": [
        "Now, visualize the projected data with a scatter plot! What can you say about the points corresponding to different iris types?"
      ]
    },
    {
      "cell_type": "code",
      "metadata": {
        "id": "znL7cZf7g6sW"
      },
      "source": [
        "import matplotlib.pyplot as plt\n",
        "%matplotlib inline"
      ],
      "execution_count": 27,
      "outputs": []
    },
    {
      "cell_type": "code",
      "metadata": {
        "id": "8BALmEg2hDbh",
        "outputId": "f71584de-777c-4a41-978b-e843f287c922",
        "colab": {
          "base_uri": "https://localhost:8080/",
          "height": 269
        }
      },
      "source": [
        "for i, x in enumerate(X_proj.transpose()):\n",
        "\n",
        "  # Select color depending on the class\n",
        "  # (iris type)\n",
        "\n",
        "  if y[i] == 0:\n",
        "    c = 'red'\n",
        "  elif y[i] == 1:\n",
        "    c = 'blue'\n",
        "  else:\n",
        "    c = 'black'\n",
        "\n",
        "  # Plot the example\n",
        "  \n",
        "  plt.scatter(x[0], x[1], color=c)"
      ],
      "execution_count": 28,
      "outputs": [
        {
          "output_type": "display_data",
          "data": {
            "text/plain": [
              "<Figure size 432x288 with 1 Axes>"
            ],
            "image/png": "[encoded data removed]"
          },
          "metadata": {
            "needs_background": "light"
          }
        }
      ]
    },
    {
      "cell_type": "code",
      "source": [],
      "metadata": {
        "id": "c7ZZ5AQM7D0m"
      },
      "execution_count": null,
      "outputs": []
    }
  ]
}