{
 "cells": [
  {
   "cell_type": "code",
   "execution_count": 15,
   "metadata": {},
   "outputs": [],
   "source": [
    "import sys\n",
    "class Heap:\n",
    "    def __init__(self, maxsize = None):\n",
    "        self.maxsize = maxsize\n",
    "        self.size = 0\n",
    "        self.Heap = []\n",
    "\n",
    "    def parent(self, pos):\n",
    "        \"\"\"\n",
    "        This function finds the parent of the node at given position \n",
    "        Args:\n",
    "            int(pos): position of the node\n",
    "        \n",
    "        Returns:\n",
    "            int(pos): position of the parent of the node we are interested in    \n",
    "        \"\"\"\n",
    "        \n",
    "        return pos//2\n",
    "\n",
    "    def leftChild(self, pos):\n",
    "        \"\"\"\n",
    "        This function finds the left child of the node at given position \n",
    "        Args:\n",
    "            int(pos): position of the node\n",
    "        \n",
    "        Returns:\n",
    "            int(pos): position of the left child of the node we are interested in    \n",
    "        \"\"\"\n",
    "        \n",
    "        return 2*pos + 1\n",
    "\n",
    "\n",
    "    def rightChild(self, pos):\n",
    "        \"\"\"\n",
    "        This function finds the right child of the node at given position \n",
    "        Args:\n",
    "            int(pos): position of the node\n",
    "        \n",
    "        Returns:\n",
    "            int(pos): position of the right child of the node we are interested in    \n",
    "        \"\"\"\n",
    "        \n",
    "        return 2*pos + 2\n",
    "    \n",
    "    def isLeaf(self, pos):\n",
    "        \"\"\"\n",
    "        This function returns True if the passed node is a leaf node \n",
    "        Args:\n",
    "            int(pos): position of the node\n",
    "        \n",
    "        Returns:\n",
    "            bool: whether given node is a leaf node \n",
    "        \"\"\"\n",
    "    \n",
    "        if pos >= (self.size//2) and pos <= self.size:\n",
    "            return True\n",
    "        else:\n",
    "            return False\n",
    "\n",
    "    def swap(self, fpos, spos):\n",
    "        \"\"\"\n",
    "        This function swaps the values of two nodes \n",
    "        Args:\n",
    "            int(fpos): first position of the node\n",
    "        \n",
    "        Returns:\n",
    "            int(spos): second position of the node\n",
    "        \"\"\"\n",
    "\n",
    "        self.Heap[fpos], self.Heap[spos] = (self.Heap[spos], self.Heap[fpos])\n",
    "        \n",
    "        \n",
    "    def Heapify(self, pos):\n",
    "        \"\"\"\n",
    "        This function keeps the invariant property of the heap\n",
    "        Args:\n",
    "            int(pos): position of node which has to be heapified\n",
    "        \"\"\"\n",
    "        if not self.isLeaf(pos):\n",
    "            if (self.Heap[pos] < self.Heap[self.leftChild(pos)] or\n",
    "                self.Heap[pos] < self.Heap[self.rightChild(pos)]):\n",
    "\n",
    "                if (self.Heap[pos]<self.Heap[self.leftChild(pos)]):\n",
    "                    self.swap(pos, self.leftChild(pos))\n",
    "                    self.Heapify(self.leftChild(pos))\n",
    "                else:\n",
    "                    self.swap(pos, self.rightChild(pos))\n",
    "                    self.Heapify(self.rightChild(pos))\n",
    "    \n",
    "    def insert(self, val):\n",
    "        \"\"\"\n",
    "        This function inserts a node to a Heap while keeping the structure\n",
    "        Args:\n",
    "            value: value of our node needed to be inserted\n",
    "        \"\"\"\n",
    "        \n",
    "        if self.maxsize:\n",
    "            if self.size >= self.maxsize:\n",
    "                return\n",
    "        \n",
    "        self.size += 1\n",
    "        self.Heap[self.size] = val\n",
    "        curr = self.size\n",
    "        \n",
    "        while(self.Heap[curr] > self.Heap[self.parent(curr)]):\n",
    "            self.swap(curr, self.parent(curr))\n",
    "            curr = self.parent(curr)\n",
    "\n",
    "    def popMax(self):\n",
    "        \"\"\"\n",
    "        This function inserts a node to a Heap while keeping the structure\n",
    "        Args:\n",
    "        Returns:\n",
    "            value: maximum value of the Heap\n",
    "        \"\"\"\n",
    "        popped = self.Heap[0]\n",
    "        self.Heap[0] = self.Heap[self.size]\n",
    "        self.size -= 1\n",
    "        self.Heapify(0)\n",
    "\n",
    "    def Print(self):\n",
    "          \n",
    "        for i in range(1, (self.size // 2) + 1):\n",
    "            print(\"PARENT : \" + str(self.Heap[i]) + \n",
    "                  \"LEFT CHILD : \" + str(self.Heap[2 * i]) +\n",
    "                  \"RIGHT CHILD : \" + str(self.Heap[2 * i + 1]))"
   ]
  },
  {
   "cell_type": "code",
   "execution_count": 16,
   "metadata": {},
   "outputs": [],
   "source": [
    "myHeap = Heap()"
   ]
  },
  {
   "cell_type": "code",
   "execution_count": 17,
   "metadata": {},
   "outputs": [
    {
     "ename": "TypeError",
     "evalue": "'>=' not supported between instances of 'int' and 'NoneType'",
     "output_type": "error",
     "traceback": [
      "\u001b[1;31m---------------------------------------------------------------------------\u001b[0m",
      "\u001b[1;31mTypeError\u001b[0m                                 Traceback (most recent call last)",
      "\u001b[1;32mc:\\Users\\Temirlan\\Desktop\\HarbourSpace\\Module7 Alg&DS\\Heaps_ex.ipynb Cell 3\u001b[0m in \u001b[0;36m<cell line: 1>\u001b[1;34m()\u001b[0m\n\u001b[1;32m----> <a href='vscode-notebook-cell:/c%3A/Users/Temirlan/Desktop/HarbourSpace/Module7%20Alg%26DS/Heaps_ex.ipynb#X14sZmlsZQ%3D%3D?line=0'>1</a>\u001b[0m myHeap\u001b[39m.\u001b[39;49minsert(\u001b[39m5\u001b[39;49m)\n",
      "\u001b[1;32mc:\\Users\\Temirlan\\Desktop\\HarbourSpace\\Module7 Alg&DS\\Heaps_ex.ipynb Cell 3\u001b[0m in \u001b[0;36mHeap.insert\u001b[1;34m(self, val)\u001b[0m\n\u001b[0;32m     <a href='vscode-notebook-cell:/c%3A/Users/Temirlan/Desktop/HarbourSpace/Module7%20Alg%26DS/Heaps_ex.ipynb#X14sZmlsZQ%3D%3D?line=90'>91</a>\u001b[0m \u001b[39m\"\"\"\u001b[39;00m\n\u001b[0;32m     <a href='vscode-notebook-cell:/c%3A/Users/Temirlan/Desktop/HarbourSpace/Module7%20Alg%26DS/Heaps_ex.ipynb#X14sZmlsZQ%3D%3D?line=91'>92</a>\u001b[0m \u001b[39mThis function inserts a node to a Heap while keeping the structure\u001b[39;00m\n\u001b[0;32m     <a href='vscode-notebook-cell:/c%3A/Users/Temirlan/Desktop/HarbourSpace/Module7%20Alg%26DS/Heaps_ex.ipynb#X14sZmlsZQ%3D%3D?line=92'>93</a>\u001b[0m \u001b[39mArgs:\u001b[39;00m\n\u001b[0;32m     <a href='vscode-notebook-cell:/c%3A/Users/Temirlan/Desktop/HarbourSpace/Module7%20Alg%26DS/Heaps_ex.ipynb#X14sZmlsZQ%3D%3D?line=93'>94</a>\u001b[0m \u001b[39m    value: value of our node needed to be inserted\u001b[39;00m\n\u001b[0;32m     <a href='vscode-notebook-cell:/c%3A/Users/Temirlan/Desktop/HarbourSpace/Module7%20Alg%26DS/Heaps_ex.ipynb#X14sZmlsZQ%3D%3D?line=94'>95</a>\u001b[0m \u001b[39m\"\"\"\u001b[39;00m\n\u001b[0;32m     <a href='vscode-notebook-cell:/c%3A/Users/Temirlan/Desktop/HarbourSpace/Module7%20Alg%26DS/Heaps_ex.ipynb#X14sZmlsZQ%3D%3D?line=96'>97</a>\u001b[0m \u001b[39mif\u001b[39;00m \u001b[39mnot\u001b[39;00m \u001b[39mself\u001b[39m\u001b[39m.\u001b[39mmaxsize:\n\u001b[1;32m---> <a href='vscode-notebook-cell:/c%3A/Users/Temirlan/Desktop/HarbourSpace/Module7%20Alg%26DS/Heaps_ex.ipynb#X14sZmlsZQ%3D%3D?line=97'>98</a>\u001b[0m     \u001b[39mif\u001b[39;00m \u001b[39mself\u001b[39;49m\u001b[39m.\u001b[39;49msize \u001b[39m>\u001b[39;49m\u001b[39m=\u001b[39;49m \u001b[39mself\u001b[39;49m\u001b[39m.\u001b[39;49mmaxsize:\n\u001b[0;32m     <a href='vscode-notebook-cell:/c%3A/Users/Temirlan/Desktop/HarbourSpace/Module7%20Alg%26DS/Heaps_ex.ipynb#X14sZmlsZQ%3D%3D?line=98'>99</a>\u001b[0m         \u001b[39mreturn\u001b[39;00m\n\u001b[0;32m    <a href='vscode-notebook-cell:/c%3A/Users/Temirlan/Desktop/HarbourSpace/Module7%20Alg%26DS/Heaps_ex.ipynb#X14sZmlsZQ%3D%3D?line=100'>101</a>\u001b[0m \u001b[39mself\u001b[39m\u001b[39m.\u001b[39msize \u001b[39m+\u001b[39m\u001b[39m=\u001b[39m \u001b[39m1\u001b[39m\n",
      "\u001b[1;31mTypeError\u001b[0m: '>=' not supported between instances of 'int' and 'NoneType'"
     ]
    }
   ],
   "source": [
    "myHeap.insert(5)"
   ]
  },
  {
   "cell_type": "code",
   "execution_count": 18,
   "metadata": {},
   "outputs": [
    {
     "name": "stdout",
     "output_type": "stream",
     "text": [
      "hey\n"
     ]
    }
   ],
   "source": [
    "if 5:\n",
    "    print('hey')"
   ]
  },
  {
   "cell_type": "code",
   "execution_count": null,
   "metadata": {},
   "outputs": [],
   "source": []
  }
 ],
 "metadata": {
  "kernelspec": {
   "display_name": "base",
   "language": "python",
   "name": "python3"
  },
  "language_info": {
   "codemirror_mode": {
    "name": "ipython",
    "version": 3
   },
   "file_extension": ".py",
   "mimetype": "text/x-python",
   "name": "python",
   "nbconvert_exporter": "python",
   "pygments_lexer": "ipython3",
   "version": "3.9.12"
  },
  "orig_nbformat": 4,
  "vscode": {
   "interpreter": {
    "hash": "c6516f8d802d5d515581c04931032e9d6ff4b607da54a53d6eb72fcfc40b5a81"
   }
  }
 },
 "nbformat": 4,
 "nbformat_minor": 2
}
