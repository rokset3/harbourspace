{
 "cells": [
  {
   "cell_type": "code",
   "execution_count": 7,
   "metadata": {},
   "outputs": [
    {
     "name": "stdout",
     "output_type": "stream",
     "text": [
      "35422\n"
     ]
    }
   ],
   "source": [
    "mod = 10**9 + 7\n",
    "n, k = map(int, input().split())\n",
    "\n",
    "answer = 0\n",
    "for t in range(2):\n",
    "    dp = [[0 for _ in range(k + 1)] for _ in range(2)]\n",
    "    prefix_sum_dp = [[0 for _ in range(k + 1)] for _ in range(2)]\n",
    "\n",
    "    for x in range(1, k + 1):\n",
    "        dp[1][x] = 1\n",
    "\n",
    "    for i in range(2, n + 1):\n",
    "        for x in range(1, k + 1):\n",
    "            prefix_sum_dp[(i-1)%2][x] = dp[(i-1)%2][x] + prefix_sum_dp[(i-1)%2][x-1]\n",
    "            prefix_sum_dp[(i-1)%2][x] %= mod\n",
    "        dp[i%2] = [0 for _ in range(k + 1)]\n",
    "        prefix_sum_dp[i%2] = [0 for _ in range(k + 1)]\n",
    "        for x in range(1, k + 1):\n",
    "            if i % 2 == t:\n",
    "                dp[i%2][x] += (prefix_sum_dp[(i-1)%2][k] - prefix_sum_dp[(i-1)%2][x] + mod)\n",
    "                dp[i%2][x] %= mod\n",
    "            else:\n",
    "                dp[i%2][x] += prefix_sum_dp[(i-1)%2][x - 1]\n",
    "                dp[i%2][x] %= mod\n",
    "    \n",
    "    for x in range(1, k + 1):\n",
    "        answer += dp[n%2][x]\n",
    "        answer %= mod\n",
    "\n",
    "print(answer)\n",
    "    \n"
   ]
  },
  {
   "cell_type": "code",
   "execution_count": 6,
   "metadata": {},
   "outputs": [
    {
     "data": {
      "text/plain": [
       "[[0, 0, 1, 2], [0, 3, 2, 0]]"
      ]
     },
     "execution_count": 6,
     "metadata": {},
     "output_type": "execute_result"
    }
   ],
   "source": [
    "dp"
   ]
  },
  {
   "cell_type": "code",
   "execution_count": null,
   "metadata": {},
   "outputs": [],
   "source": []
  }
 ],
 "metadata": {
  "kernelspec": {
   "display_name": "base",
   "language": "python",
   "name": "python3"
  },
  "language_info": {
   "codemirror_mode": {
    "name": "ipython",
    "version": 3
   },
   "file_extension": ".py",
   "mimetype": "text/x-python",
   "name": "python",
   "nbconvert_exporter": "python",
   "pygments_lexer": "ipython3",
   "version": "3.9.12"
  },
  "orig_nbformat": 4
 },
 "nbformat": 4,
 "nbformat_minor": 2
}
