{
 "cells": [
  {
   "cell_type": "code",
   "execution_count": 1,
   "metadata": {},
   "outputs": [],
   "source": [
    "import random\n",
    "\n",
    "powers_two = [2**i for i in range(0, 30)]\n",
    "\n",
    "class SegmentTree:\n",
    "    def __init__(self, a):\n",
    "        self.a = a\n",
    "        self.n = len(self.a)\n",
    "        self.tree = [0 for _ in range(4*self.n)]\n",
    "        self._build(0, 0, self.n - 1)\n",
    "\n",
    "    def _build(self, vertex, left, right):\n",
    "        if left == right:\n",
    "            self.tree[vertex] = self.a[left]\n",
    "            return\n",
    "\n",
    "        mid = (left + right) // 2\n",
    "\n",
    "        self._build(2 * vertex + 1, left, mid)\n",
    "        self._build(2 * vertex + 2, mid + 1, right)\n",
    "\n",
    "        self.tree[vertex] = self.tree[2*vertex + 1] + self.tree[2*vertex + 2]\n",
    "\n",
    "\n",
    "\n",
    "    def _update(self, pos, value, vertex, left, right):\n",
    "        if left == right:\n",
    "            self.tree[vertex] = value\n",
    "            return\n",
    "\n",
    "        mid = (left + right) // 2\n",
    "\n",
    "        if pos <= mid:\n",
    "            self._update(pos, value, 2 * vertex + 1, left, mid)\n",
    "        else:\n",
    "            self._update(pos, value, 2 * vertex + 2, mid + 1, right)\n",
    "\n",
    "        self.tree[vertex] = self.tree[2 * vertex + 1] + self.tree[2 * vertex + 2]\n",
    "\n",
    "    def _query(self, query_left, query_right, vertex, left, right):\n",
    "        if left > query_right or right < query_left:\n",
    "            return 0\n",
    "\n",
    "        if left >= query_left and right <= query_right:\n",
    "            return self.tree[vertex]\n",
    "\n",
    "        mid = (left + right) // 2\n",
    "\n",
    "        sum_left = self._query(query_left, query_right, 2 * vertex + 1, left, mid)\n",
    "        sum_right = self._query(query_left, query_right, 2 * vertex + 2, mid + 1, right)\n",
    "\n",
    "        return sum_left + sum_right\n",
    "\n",
    "    def update(self, pos, value):\n",
    "        self._update(pos, value, 0, 0, self.n - 1)\n",
    "\n",
    "    def query(self, left, right):\n",
    "        return self._query(left, right, 0, 0, self.n - 1)\n",
    "\n",
    "\n",
    "a = [0 for _ in range(50)]\n",
    "T = SegmentTree(a)\n",
    "\n",
    "for _ in range(100):\n",
    "    pos = random.randint(0, 49)\n",
    "    val = random.randint(0, 100)\n",
    "    T.update(pos, val)\n",
    "    a[pos] = val\n",
    "\n",
    "    for _ in range(100):\n",
    "        l = random.randint(0, 49)\n",
    "        r = random.randint(0, 49)\n",
    "        if l > r:\n",
    "            l, r = r, l\n",
    "\n",
    "        assert T.query(l, r) == sum(a[l:r + 1])"
   ]
  },
  {
   "cell_type": "code",
   "execution_count": null,
   "metadata": {},
   "outputs": [],
   "source": []
  },
  {
   "cell_type": "code",
   "execution_count": 4,
   "metadata": {},
   "outputs": [
    {
     "data": {
      "text/plain": [
       "50"
      ]
     },
     "execution_count": 4,
     "metadata": {},
     "output_type": "execute_result"
    }
   ],
   "source": [
    "T.n"
   ]
  },
  {
   "cell_type": "code",
   "execution_count": 5,
   "metadata": {},
   "outputs": [
    {
     "data": {
      "text/plain": [
       "(1, 2)"
      ]
     },
     "execution_count": 5,
     "metadata": {},
     "output_type": "execute_result"
    }
   ],
   "source": [
    "tuple(map(int, [\"1\",\"2\"]))"
   ]
  },
  {
   "cell_type": "code",
   "execution_count": null,
   "metadata": {},
   "outputs": [],
   "source": []
  }
 ],
 "metadata": {
  "kernelspec": {
   "display_name": "base",
   "language": "python",
   "name": "python3"
  },
  "language_info": {
   "codemirror_mode": {
    "name": "ipython",
    "version": 3
   },
   "file_extension": ".py",
   "mimetype": "text/x-python",
   "name": "python",
   "nbconvert_exporter": "python",
   "pygments_lexer": "ipython3",
   "version": "3.9.12"
  },
  "orig_nbformat": 4,
  "vscode": {
   "interpreter": {
    "hash": "c6516f8d802d5d515581c04931032e9d6ff4b607da54a53d6eb72fcfc40b5a81"
   }
  }
 },
 "nbformat": 4,
 "nbformat_minor": 2
}
