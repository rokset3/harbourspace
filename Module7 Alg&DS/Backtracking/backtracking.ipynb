{
 "cells": [
  {
   "cell_type": "code",
   "execution_count": 13,
   "metadata": {},
   "outputs": [
    {
     "data": {
      "text/plain": [
       "12"
      ]
     },
     "execution_count": 13,
     "metadata": {},
     "output_type": "execute_result"
    }
   ],
   "source": [
    "#problem1\n",
    "i = 1\n",
    "num = 141\n",
    "num + ((num>>i)%2==0)*(1<<i) - ((num>>i)%2==1)*(1<<i)"
   ]
  },
  {
   "cell_type": "code",
   "execution_count": 57,
   "metadata": {},
   "outputs": [
    {
     "name": "stdout",
     "output_type": "stream",
     "text": [
      "1999998976\n"
     ]
    }
   ],
   "source": [
    "#problem 2\n",
    "n, i = tuple(map(int, input().split()))\n",
    "print(int(((n>>i)%2!=0)), n&(~(1<<i)), (n>>(i))<<i)\n"
   ]
  },
  {
   "cell_type": "code",
   "execution_count": 63,
   "metadata": {},
   "outputs": [],
   "source": [
    "def power_set(N, items):\n",
    "    # This will store the complete set of combinations     \n",
    "    outer_combo = []\n",
    "\n",
    "    # enumerate the 2**N possible combinations\n",
    "    for i in range(2**N):\n",
    "\n",
    "        # This will store the intermediate sets \n",
    "        inner_combo = []\n",
    "        for j in range(N):\n",
    "            # test bit jth of integer i\n",
    "            if (i >> j) % 2 == 1:\n",
    "                inner_combo.append(items[j])\n",
    "\n",
    "        # Uncomment below to understand each step\n",
    "        # print(inner_combo)\n",
    "\n",
    "        # Add the intermediate set to final result\n",
    "        outer_combo.append(inner_combo)\n",
    "    return outer_combo\n",
    "\n",
    "#n = int(input())\n",
    "#a = list(map(int, input().split()))\n",
    "#target = int(input())\n",
    "n = 5\n",
    "a = [1,2,3,4,5]\n",
    "target = 10\n",
    "sets = power_set(n, a)\n"
   ]
  },
  {
   "cell_type": "code",
   "execution_count": 149,
   "metadata": {},
   "outputs": [
    {
     "name": "stdout",
     "output_type": "stream",
     "text": [
      "1\n"
     ]
    }
   ],
   "source": [
    "import sys\n",
    "def power_set(N, items):\n",
    "    # This will store the complete set of combinations     \n",
    "    outer_combo = []\n",
    "    outer_complement = []\n",
    "    min_sum = sys.maxsize\n",
    "\n",
    "    # enumerate the 2**N possible combinations\n",
    "    for i in range(2**N):\n",
    "\n",
    "        # This will store the intermediate sets \n",
    "        inner_combo = []\n",
    "        inner_compl = []\n",
    "        for j in range(N):\n",
    "            # test bit jth of integer i\n",
    "            if (i >> j) % 2 == 1:\n",
    "                inner_combo.append(items[j])\n",
    "            if (i>>j)%2 == 0:\n",
    "                inner_compl.append(items[j])\n",
    "\n",
    "        # Uncomment below to understand each step\n",
    "        # print(inner_combo)\n",
    "\n",
    "        # Add the intermediate set to final result\n",
    "        curr = abs(sum(inner_combo) - sum(inner_compl))\n",
    "        if curr< min_sum:\n",
    "            min_sum = curr\n",
    "            \n",
    "\n",
    " #           temp_l = items.copy()\n",
    " #           temp_l.remove(inner_combo)\n",
    "#            outer_complement.append(set(items) - set(inner_combo))\n",
    "    return min_sum\n",
    "\n",
    "#n = int(input())\n",
    "#a = list(map(int, input().split()))\n",
    "n = 5\n",
    "a = [1,2,3,4,5]\n",
    "\n",
    "\n",
    "print(power_set(n, a))\n"
   ]
  },
  {
   "cell_type": "code",
   "execution_count": 162,
   "metadata": {},
   "outputs": [
    {
     "name": "stdout",
     "output_type": "stream",
     "text": [
      "1 2 3 4 5\n",
      "1 2 3 5 4\n",
      "1 2 4 3 5\n",
      "1 2 4 5 3\n",
      "1 2 5 3 4\n",
      "1 2 5 4 3\n",
      "1 3 2 4 5\n",
      "1 3 2 5 4\n",
      "1 3 4 2 5\n",
      "1 3 4 5 2\n",
      "1 3 5 2 4\n",
      "1 3 5 4 2\n",
      "1 4 2 3 5\n",
      "1 4 2 5 3\n",
      "1 4 3 2 5\n",
      "1 4 3 5 2\n",
      "1 4 5 2 3\n",
      "1 4 5 3 2\n",
      "1 5 2 3 4\n",
      "1 5 2 4 3\n",
      "1 5 3 2 4\n",
      "1 5 3 4 2\n",
      "1 5 4 2 3\n",
      "1 5 4 3 2\n",
      "2 1 3 4 5\n",
      "2 1 3 5 4\n",
      "2 1 4 3 5\n",
      "2 1 4 5 3\n",
      "2 1 5 3 4\n",
      "2 1 5 4 3\n",
      "2 3 1 4 5\n",
      "2 3 1 5 4\n",
      "2 3 4 1 5\n",
      "2 3 4 5 1\n",
      "2 3 5 1 4\n",
      "2 3 5 4 1\n",
      "2 4 1 3 5\n",
      "2 4 1 5 3\n",
      "2 4 3 1 5\n",
      "2 4 3 5 1\n",
      "2 4 5 1 3\n",
      "2 4 5 3 1\n",
      "2 5 1 3 4\n",
      "2 5 1 4 3\n",
      "2 5 3 1 4\n",
      "2 5 3 4 1\n",
      "2 5 4 1 3\n",
      "2 5 4 3 1\n",
      "3 1 2 4 5\n",
      "3 1 2 5 4\n",
      "3 1 4 2 5\n",
      "3 1 4 5 2\n",
      "3 1 5 2 4\n",
      "3 1 5 4 2\n",
      "3 2 1 4 5\n",
      "3 2 1 5 4\n",
      "3 2 4 1 5\n",
      "3 2 4 5 1\n",
      "3 2 5 1 4\n",
      "3 2 5 4 1\n",
      "3 4 1 2 5\n",
      "3 4 1 5 2\n",
      "3 4 2 1 5\n",
      "3 4 2 5 1\n",
      "3 4 5 1 2\n",
      "3 4 5 2 1\n",
      "3 5 1 2 4\n",
      "3 5 1 4 2\n",
      "3 5 2 1 4\n",
      "3 5 2 4 1\n",
      "3 5 4 1 2\n",
      "3 5 4 2 1\n",
      "4 1 2 3 5\n",
      "4 1 2 5 3\n",
      "4 1 3 2 5\n",
      "4 1 3 5 2\n",
      "4 1 5 2 3\n",
      "4 1 5 3 2\n",
      "4 2 1 3 5\n",
      "4 2 1 5 3\n",
      "4 2 3 1 5\n",
      "4 2 3 5 1\n",
      "4 2 5 1 3\n",
      "4 2 5 3 1\n",
      "4 3 1 2 5\n",
      "4 3 1 5 2\n",
      "4 3 2 1 5\n",
      "4 3 2 5 1\n",
      "4 3 5 1 2\n",
      "4 3 5 2 1\n",
      "4 5 1 2 3\n",
      "4 5 1 3 2\n",
      "4 5 2 1 3\n",
      "4 5 2 3 1\n",
      "4 5 3 1 2\n",
      "4 5 3 2 1\n",
      "5 1 2 3 4\n",
      "5 1 2 4 3\n",
      "5 1 3 2 4\n",
      "5 1 3 4 2\n",
      "5 1 4 2 3\n",
      "5 1 4 3 2\n",
      "5 2 1 3 4\n",
      "5 2 1 4 3\n",
      "5 2 3 1 4\n",
      "5 2 3 4 1\n",
      "5 2 4 1 3\n",
      "5 2 4 3 1\n",
      "5 3 1 2 4\n",
      "5 3 1 4 2\n",
      "5 3 2 1 4\n",
      "5 3 2 4 1\n",
      "5 3 4 1 2\n",
      "5 3 4 2 1\n",
      "5 4 1 2 3\n",
      "5 4 1 3 2\n",
      "5 4 2 1 3\n",
      "5 4 2 3 1\n",
      "5 4 3 1 2\n",
      "5 4 3 2 1\n"
     ]
    }
   ],
   "source": [
    "def findCeil(str_, first, l, h):\n",
    " \n",
    "    # initialize index of ceiling element\n",
    "    ceilIndex = l\n",
    " \n",
    "    # Now iterate through rest of the elements and find\n",
    "    # the smallest character greater than 'first'\n",
    "    for i in range(l + 1, h + 1):\n",
    "        if (str_[i] > first and str_[i] < str_[ceilIndex]):\n",
    "            ceilIndex = i\n",
    " \n",
    "    return ceilIndex\n",
    " \n",
    " \n",
    "# Print all permutations of str in sorted order\n",
    "def sortedPermutations(str_):\n",
    " \n",
    "    # Get size of string\n",
    "    size = len(str_)\n",
    " \n",
    "    # Sort the string in increasing order\n",
    "    str_ = sorted(str_)\n",
    " \n",
    "    # Print permutations one by one\n",
    "    isFinished = False\n",
    "    while (isFinished is False):\n",
    " \n",
    "        # print this permutation\n",
    "        #print(\"\".join(str_))\n",
    "        print(*list(map(int, str_)))\n",
    " \n",
    "        # Find the rightmost character which is\n",
    "        # smaller than its next character.\n",
    "        # Let us call it 'first char'\n",
    "        i = size - 2\n",
    "        while i >= 0:\n",
    "            if (str_[i] < str_[i+1]):\n",
    "                break\n",
    "            i -= 1\n",
    " \n",
    "        # If there is no such character, all are\n",
    "        # sorted in decreasing order, means we\n",
    "        # just printed the last permutation and we are done.\n",
    "        if (i == -1):\n",
    "            isFinished = True\n",
    "        else:\n",
    " \n",
    "            # Find the ceil of 'first char' in\n",
    "            # right of first character.\n",
    "            # Ceil of a character is the smallest\n",
    "            # character greater than it\n",
    "            ceilIndex = findCeil(str_, str_[i], i + 1, size - 1)\n",
    " \n",
    "            # Swap first and second characters\n",
    "            temp = str_[i]\n",
    "            str_[i] = str_[ceilIndex]\n",
    "            str_[ceilIndex] = temp\n",
    " \n",
    "            # Sort the string on right of 'first char'\n",
    "            str_ = str_[:i + 1] + sorted(str_[i + 1:])\n",
    " \n",
    " \n",
    "# Driver program to test above function\n",
    "n = int(input())\n",
    "str_ = \"\".join(map(str, list(range(1,n+1))))\n",
    "sortedPermutations(str_)"
   ]
  },
  {
   "cell_type": "code",
   "execution_count": 161,
   "metadata": {},
   "outputs": [
    {
     "data": {
      "text/plain": [
       "'1234'"
      ]
     },
     "execution_count": 161,
     "metadata": {},
     "output_type": "execute_result"
    }
   ],
   "source": []
  },
  {
   "cell_type": "code",
   "execution_count": 101,
   "metadata": {},
   "outputs": [
    {
     "name": "stdout",
     "output_type": "stream",
     "text": [
      "0\n"
     ]
    },
    {
     "ename": "TypeError",
     "evalue": "unsupported operand type(s) for +: 'int' and 'set'",
     "output_type": "error",
     "traceback": [
      "\u001b[1;31m---------------------------------------------------------------------------\u001b[0m",
      "\u001b[1;31mTypeError\u001b[0m                                 Traceback (most recent call last)",
      "\u001b[1;32mc:\\Users\\Temirlan\\Desktop\\HarbourSpace\\Module7 Alg&DS\\Backtracking\\backtracking.ipynb Cell 5\u001b[0m in \u001b[0;36m<cell line: 1>\u001b[1;34m()\u001b[0m\n\u001b[0;32m      <a href='vscode-notebook-cell:/c%3A/Users/Temirlan/Desktop/HarbourSpace/Module7%20Alg%26DS/Backtracking/backtracking.ipynb#W4sZmlsZQ%3D%3D?line=0'>1</a>\u001b[0m \u001b[39mfor\u001b[39;00m idx \u001b[39min\u001b[39;00m \u001b[39mrange\u001b[39m(\u001b[39mlen\u001b[39m(sets)):\n\u001b[0;32m      <a href='vscode-notebook-cell:/c%3A/Users/Temirlan/Desktop/HarbourSpace/Module7%20Alg%26DS/Backtracking/backtracking.ipynb#W4sZmlsZQ%3D%3D?line=1'>2</a>\u001b[0m     \u001b[39mprint\u001b[39m(idx)\n\u001b[1;32m----> <a href='vscode-notebook-cell:/c%3A/Users/Temirlan/Desktop/HarbourSpace/Module7%20Alg%26DS/Backtracking/backtracking.ipynb#W4sZmlsZQ%3D%3D?line=2'>3</a>\u001b[0m     \u001b[39msum\u001b[39;49m(sets_c[idx])\n",
      "\u001b[1;31mTypeError\u001b[0m: unsupported operand type(s) for +: 'int' and 'set'"
     ]
    }
   ],
   "source": [
    "for idx in range(len(sets)):\n",
    "    print(idx)\n",
    "    sum(sets_c[idx])"
   ]
  },
  {
   "cell_type": "code",
   "execution_count": 102,
   "metadata": {},
   "outputs": [
    {
     "data": {
      "text/plain": [
       "{1}"
      ]
     },
     "execution_count": 102,
     "metadata": {},
     "output_type": "execute_result"
    }
   ],
   "source": [
    "set([1])"
   ]
  },
  {
   "cell_type": "code",
   "execution_count": 77,
   "metadata": {},
   "outputs": [
    {
     "ename": "TypeError",
     "evalue": "'int' object is not iterable",
     "output_type": "error",
     "traceback": [
      "\u001b[1;31m---------------------------------------------------------------------------\u001b[0m",
      "\u001b[1;31mTypeError\u001b[0m                                 Traceback (most recent call last)",
      "\u001b[1;32mc:\\Users\\Temirlan\\Desktop\\HarbourSpace\\Module7 Alg&DS\\Backtracking\\backtracking.ipynb Cell 6\u001b[0m in \u001b[0;36m<cell line: 1>\u001b[1;34m()\u001b[0m\n\u001b[1;32m----> <a href='vscode-notebook-cell:/c%3A/Users/Temirlan/Desktop/HarbourSpace/Module7%20Alg%26DS/Backtracking/backtracking.ipynb#W5sZmlsZQ%3D%3D?line=0'>1</a>\u001b[0m \u001b[39mset\u001b[39;49m(\u001b[39m1\u001b[39;49m)\n",
      "\u001b[1;31mTypeError\u001b[0m: 'int' object is not iterable"
     ]
    }
   ],
   "source": [
    "set(1)"
   ]
  },
  {
   "cell_type": "code",
   "execution_count": 97,
   "metadata": {},
   "outputs": [
    {
     "data": {
      "text/plain": [
       "[[None],\n",
       " [None],\n",
       " [None, None],\n",
       " [None],\n",
       " [None, None],\n",
       " [None, None],\n",
       " [None, None, None],\n",
       " [None],\n",
       " [None, None],\n",
       " [None, None],\n",
       " [None, None, None],\n",
       " [None, None],\n",
       " [None, None, None],\n",
       " [None, None, None],\n",
       " [None, None, None, None],\n",
       " [None],\n",
       " [None, None],\n",
       " [None, None],\n",
       " [None, None, None],\n",
       " [None, None],\n",
       " [None, None, None],\n",
       " [None, None, None],\n",
       " [None, None, None, None],\n",
       " [None, None],\n",
       " [None, None, None],\n",
       " [None, None, None],\n",
       " [None, None, None, None],\n",
       " [None, None, None],\n",
       " [None, None, None, None],\n",
       " [None, None, None, None],\n",
       " [None, None, None, None, None]]"
      ]
     },
     "execution_count": 97,
     "metadata": {},
     "output_type": "execute_result"
    }
   ],
   "source": [
    "sets_c"
   ]
  },
  {
   "cell_type": "code",
   "execution_count": 78,
   "metadata": {},
   "outputs": [
    {
     "ename": "TypeError",
     "evalue": "unsupported operand type(s) for -: 'set' and 'int'",
     "output_type": "error",
     "traceback": [
      "\u001b[1;31m---------------------------------------------------------------------------\u001b[0m",
      "\u001b[1;31mTypeError\u001b[0m                                 Traceback (most recent call last)",
      "\u001b[1;32mc:\\Users\\Temirlan\\Desktop\\HarbourSpace\\Module7 Alg&DS\\Backtracking\\backtracking.ipynb Cell 7\u001b[0m in \u001b[0;36m<cell line: 1>\u001b[1;34m()\u001b[0m\n\u001b[1;32m----> <a href='vscode-notebook-cell:/c%3A/Users/Temirlan/Desktop/HarbourSpace/Module7%20Alg%26DS/Backtracking/backtracking.ipynb#W6sZmlsZQ%3D%3D?line=0'>1</a>\u001b[0m \u001b[39mset\u001b[39;49m([\u001b[39m1\u001b[39;49m,\u001b[39m2\u001b[39;49m,\u001b[39m3\u001b[39;49m]) \u001b[39m-\u001b[39;49m \u001b[39m1\u001b[39;49m\n",
      "\u001b[1;31mTypeError\u001b[0m: unsupported operand type(s) for -: 'set' and 'int'"
     ]
    }
   ],
   "source": [
    "set([1,2,3]) - 1"
   ]
  },
  {
   "cell_type": "code",
   "execution_count": 82,
   "metadata": {},
   "outputs": [],
   "source": [
    "a = set([1,2,3])\n",
    "a.remove(1)"
   ]
  },
  {
   "cell_type": "code",
   "execution_count": 83,
   "metadata": {},
   "outputs": [
    {
     "data": {
      "text/plain": [
       "{2, 3}"
      ]
     },
     "execution_count": 83,
     "metadata": {},
     "output_type": "execute_result"
    }
   ],
   "source": [
    "a"
   ]
  },
  {
   "cell_type": "code",
   "execution_count": 84,
   "metadata": {},
   "outputs": [
    {
     "ename": "TypeError",
     "evalue": "'NoneType' object is not iterable",
     "output_type": "error",
     "traceback": [
      "\u001b[1;31m---------------------------------------------------------------------------\u001b[0m",
      "\u001b[1;31mTypeError\u001b[0m                                 Traceback (most recent call last)",
      "\u001b[1;32mc:\\Users\\Temirlan\\Desktop\\HarbourSpace\\Module7 Alg&DS\\Backtracking\\backtracking.ipynb Cell 10\u001b[0m in \u001b[0;36m<cell line: 1>\u001b[1;34m()\u001b[0m\n\u001b[1;32m----> <a href='vscode-notebook-cell:/c%3A/Users/Temirlan/Desktop/HarbourSpace/Module7%20Alg%26DS/Backtracking/backtracking.ipynb#X12sZmlsZQ%3D%3D?line=0'>1</a>\u001b[0m \u001b[39msum\u001b[39;49m(\u001b[39mNone\u001b[39;49;00m)\n",
      "\u001b[1;31mTypeError\u001b[0m: 'NoneType' object is not iterable"
     ]
    }
   ],
   "source": [
    "sum(None)"
   ]
  },
  {
   "cell_type": "code",
   "execution_count": 86,
   "metadata": {},
   "outputs": [
    {
     "data": {
      "text/plain": [
       "True"
      ]
     },
     "execution_count": 86,
     "metadata": {},
     "output_type": "execute_result"
    }
   ],
   "source": [
    "[] == [] "
   ]
  },
  {
   "cell_type": "code",
   "execution_count": null,
   "metadata": {},
   "outputs": [],
   "source": []
  }
 ],
 "metadata": {
  "kernelspec": {
   "display_name": "base",
   "language": "python",
   "name": "python3"
  },
  "language_info": {
   "codemirror_mode": {
    "name": "ipython",
    "version": 3
   },
   "file_extension": ".py",
   "mimetype": "text/x-python",
   "name": "python",
   "nbconvert_exporter": "python",
   "pygments_lexer": "ipython3",
   "version": "3.9.12"
  },
  "orig_nbformat": 4,
  "vscode": {
   "interpreter": {
    "hash": "c6516f8d802d5d515581c04931032e9d6ff4b607da54a53d6eb72fcfc40b5a81"
   }
  }
 },
 "nbformat": 4,
 "nbformat_minor": 2
}
